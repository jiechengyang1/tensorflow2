{
 "cells": [
  {
   "cell_type": "code",
   "execution_count": 1,
   "id": "b5258d8d",
   "metadata": {},
   "outputs": [],
   "source": [
    "import tensorflow as tf\n",
    "from tensorflow.keras.layers import Dense, Flatten\n",
    "from tensorflow.keras import Model"
   ]
  },
  {
   "cell_type": "code",
   "execution_count": 2,
   "id": "25f30154",
   "metadata": {},
   "outputs": [],
   "source": [
    "fashion = tf.keras.datasets.fashion_mnist\n",
    "(x_train, y_train),(x_test, y_test) = fashion.load_data()\n",
    "x_train, x_test = x_train / 255.0, x_test / 255.0"
   ]
  },
  {
   "cell_type": "code",
   "execution_count": 5,
   "id": "b9de8472",
   "metadata": {},
   "outputs": [],
   "source": [
    "class FashionModel(Model):\n",
    "    def __init__(self):\n",
    "        super(FashionModel,self).__init__()\n",
    "        self.flatten=Flatten()\n",
    "        self.d1=Dense(128,activation='relu')\n",
    "        self.d2=Dense(10,activation='softmax')\n",
    "    def call(self,x):\n",
    "        x=self.flatten(x)\n",
    "        y=self.d1(x)\n",
    "        y=self.d2(y)\n",
    "        return y\n",
    "        "
   ]
  },
  {
   "cell_type": "code",
   "execution_count": 6,
   "id": "797abaac",
   "metadata": {},
   "outputs": [
    {
     "name": "stdout",
     "output_type": "stream",
     "text": [
      "Epoch 1/5\n",
      "1875/1875 [==============================] - 4s 1ms/step - loss: 0.4992 - accuracy: 0.8256 - val_loss: 0.4395 - val_accuracy: 0.8442\n",
      "Epoch 2/5\n",
      "1875/1875 [==============================] - 3s 1ms/step - loss: 0.3764 - accuracy: 0.8648 - val_loss: 0.3856 - val_accuracy: 0.8617\n",
      "Epoch 3/5\n",
      "1875/1875 [==============================] - 3s 1ms/step - loss: 0.3355 - accuracy: 0.8773 - val_loss: 0.3692 - val_accuracy: 0.8671\n",
      "Epoch 4/5\n",
      "1875/1875 [==============================] - 3s 1ms/step - loss: 0.3125 - accuracy: 0.8854 - val_loss: 0.3498 - val_accuracy: 0.8755\n",
      "Epoch 5/5\n",
      "1875/1875 [==============================] - 3s 1ms/step - loss: 0.2930 - accuracy: 0.8931 - val_loss: 0.3407 - val_accuracy: 0.8788\n"
     ]
    },
    {
     "data": {
      "text/plain": [
       "<keras.callbacks.History at 0x1d39bd0af40>"
      ]
     },
     "execution_count": 6,
     "metadata": {},
     "output_type": "execute_result"
    }
   ],
   "source": [
    "model=FashionModel()\n",
    "model.compile(optimizer='adam',loss=tf.keras.losses.SparseCategoricalCrossentropy(from_logits=False),\n",
    "             metrics=['accuracy'])\n",
    "model.fit(x_train,y_train,batch_size=32,epochs=5,\n",
    "          validation_data=(x_test,y_test),validation_freq=1)"
   ]
  },
  {
   "cell_type": "code",
   "execution_count": 7,
   "id": "d110a4de",
   "metadata": {},
   "outputs": [
    {
     "name": "stdout",
     "output_type": "stream",
     "text": [
      "313/313 [==============================] - 0s 1ms/step - loss: 0.3407 - accuracy: 0.8788\n",
      "误差值 = 0.3406619727611542\n",
      "准确率 = 0.8787999749183655\n"
     ]
    }
   ],
   "source": [
    "preds = model.evaluate(x_test,y_test)\n",
    "print(\"误差值 = \" + str(preds[0]))\n",
    "print(\"准确率 = \" + str(preds[1]))"
   ]
  },
  {
   "cell_type": "code",
   "execution_count": null,
   "id": "c38fb34a",
   "metadata": {},
   "outputs": [],
   "source": []
  }
 ],
 "metadata": {
  "kernelspec": {
   "display_name": "Python 3 (ipykernel)",
   "language": "python",
   "name": "python3"
  },
  "language_info": {
   "codemirror_mode": {
    "name": "ipython",
    "version": 3
   },
   "file_extension": ".py",
   "mimetype": "text/x-python",
   "name": "python",
   "nbconvert_exporter": "python",
   "pygments_lexer": "ipython3",
   "version": "3.9.7"
  }
 },
 "nbformat": 4,
 "nbformat_minor": 5
}
